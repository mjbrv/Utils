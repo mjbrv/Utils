{
 "cells": [
  {
   "cell_type": "markdown",
   "id": "fc16f5aa",
   "metadata": {},
   "source": [
    "# AES Encryption with PyCryptodome\n",
    "\n",
    "The `pycryptodome` package is a powerful Python library offering cryptographic operations. Among its capabilities, it facilitates implementing AES (Advanced Encryption Standard) encryption and decryption efficiently. Below is a step-by-step guide to using `pycryptodome` for AES operations in Python.\n",
    "\n",
    "## AES Encryption and Decryption Example\n",
    "\n",
    "This example demonstrates encrypting and decrypting data using AES within the `pycryptodome` library."
   ]
  },
  {
   "cell_type": "code",
   "execution_count": 4,
   "id": "42baad6d",
   "metadata": {},
   "outputs": [],
   "source": [
    "# pip install pycryptodome"
   ]
  },
  {
   "cell_type": "code",
   "execution_count": 11,
   "id": "560f0cec",
   "metadata": {},
   "outputs": [
    {
     "name": "stdout",
     "output_type": "stream",
     "text": [
      "Original: b'Secret Message'\n",
      "Encrypted: b'\\xd9\\xc0|!\\xa3\\xd3\\x8e\\xa9\\x99\\x9bg01\\xb02\\x84'\n",
      "Decrypted: b'Secret Message'\n"
     ]
    }
   ],
   "source": [
    "from Crypto.Cipher import AES\n",
    "from Crypto.Random import get_random_bytes\n",
    "from Crypto.Util.Padding import pad, unpad\n",
    "\n",
    "# Generate a random key (16 bytes for AES-128, 24 bytes for AES-192, 32 bytes for AES-256)\n",
    "key = get_random_bytes(16)\n",
    "\n",
    "# Create a cipher object\n",
    "cipher = AES.new(key, AES.MODE_CBC)\n",
    "\n",
    "# Your data to encrypt\n",
    "data = b\"Secret Message\"\n",
    "\n",
    "# Pad the data to be encrypted (AES requires the data to be a multiple of 16 bytes)\n",
    "padded_data = pad(data, AES.block_size)\n",
    "\n",
    "# Encrypt the data\n",
    "ciphertext = cipher.encrypt(padded_data)\n",
    "\n",
    "# Decrypt the data (using a new cipher object with the same key and IV)\n",
    "cipher_decrypt = AES.new(key, AES.MODE_CBC, cipher.iv)\n",
    "decrypted_data = unpad(cipher_decrypt.decrypt(ciphertext), AES.block_size)\n",
    "\n",
    "print(\"Original:\", data)\n",
    "print(\"Encrypted:\", ciphertext)\n",
    "print(\"Decrypted:\", decrypted_data)\n"
   ]
  },
  {
   "cell_type": "markdown",
   "id": "00e35fff",
   "metadata": {},
   "source": [
    "### Notes\n",
    "\n",
    "- In this example, AES encryption is performed in CBC mode (Cipher Block Chaining), which requires the data length to be a multiple of the block size (16 bytes for AES).\n",
    "- The `pad` and `unpad` functions are used to handle data padding, ensuring that the plaintext size is compatible with AES's block size requirement.\n",
    "- The same key and IV (initialization vector) must be used for both encryption and decryption processes.\n",
    "- It is crucial to manage the encryption key and IV securely, as their exposure compromises the security of the encrypted data.\n",
    "- This example provides a basic framework for using AES encryption with `pycryptodome`. You can adapt this code for more complex applications and data security requirements.\n"
   ]
  },
  {
   "cell_type": "markdown",
   "id": "32d1eb9c",
   "metadata": {},
   "source": [
    "# _______________________________________________________\n",
    "# AES Encryption with the Cryptography Package\n",
    "\n",
    "Besides PyCryptodome, the `cryptography` package is another notable option for implementing AES (Advanced Encryption Standard) encryption in Python. It is a widely used package that offers both high-level recipes and low-level cryptographic primitives.\n",
    "\n",
    "## About Cryptography\n",
    "\n",
    "The `cryptography` library is designed to be both easy to use and highly secure. It caters to a wide range of cryptographic needs through:\n",
    "\n",
    "- High-level recipes for common cryptographic tasks.\n",
    "- Low-level interfaces to cryptographic algorithms and primitives.\n",
    "\n",
    "## AES Support in Cryptography\n",
    "\n",
    "The `cryptography` package supports AES encryption across various modes of operation, including:\n",
    "\n",
    "- CBC (Cipher Block Chaining)\n",
    "- CFB (Cipher Feedback Mode)\n",
    "- OFB (Output Feedback Mode)\n",
    "- GCM (Galois/Counter Mode)\n",
    "\n",
    "It offers a Pythonic API, making it accessible for developers who may not be deeply familiar with the intricacies of cryptography. This blend of ease of use and security makes `cryptography` a solid choice for implementing AES encryption in Python projects.\n",
    "\n",
    "### Example Usage:\n",
    "\n",
    "Here's a simple example of using the cryptography library to encrypt and decrypt data using AES in CBC mode:"
   ]
  },
  {
   "cell_type": "code",
   "execution_count": 8,
   "id": "7ab864ed",
   "metadata": {},
   "outputs": [
    {
     "name": "stdout",
     "output_type": "stream",
     "text": [
      "Original: b'Secret Message'\n",
      "Encrypted: b'\\x1c\\xa9\\xc2\\x9e`\\xbc.\\xc9y\\xe4\\x82\\x92\\xfcu\\x82\\x9f'\n",
      "Decrypted: b'Secret Message'\n"
     ]
    }
   ],
   "source": [
    "from cryptography.hazmat.primitives.ciphers import Cipher, algorithms, modes\n",
    "from cryptography.hazmat.primitives import padding\n",
    "from cryptography.hazmat.backends import default_backend\n",
    "import os\n",
    "\n",
    "# Generate a random key and IV\n",
    "key = os.urandom(32)  # AES-256 key\n",
    "iv = os.urandom(16)   # IV for CBC mode\n",
    "\n",
    "# Initialize cipher object\n",
    "backend = default_backend()\n",
    "cipher = Cipher(algorithms.AES(key), modes.CBC(iv), backend=backend)\n",
    "\n",
    "# Encryptor\n",
    "encryptor = cipher.encryptor()\n",
    "padder = padding.PKCS7(128).padder()  # 128-bit padding for AES block size\n",
    "plaintext = b\"Secret Message\"\n",
    "padded_data = padder.update(plaintext) + padder.finalize()\n",
    "ciphertext = encryptor.update(padded_data) + encryptor.finalize()\n",
    "\n",
    "# Decryptor\n",
    "decryptor = cipher.decryptor()\n",
    "unpadder = padding.PKCS7(128).unpadder()\n",
    "decrypted_padded_data = decryptor.update(ciphertext) + decryptor.finalize()\n",
    "decrypted_data = unpadder.update(decrypted_padded_data) + unpadder.finalize()\n",
    "\n",
    "print(\"Original:\", plaintext)\n",
    "print(\"Encrypted:\", ciphertext)\n",
    "print(\"Decrypted:\", decrypted_data)\n"
   ]
  },
  {
   "cell_type": "code",
   "execution_count": null,
   "id": "3cbb2372",
   "metadata": {},
   "outputs": [],
   "source": []
  }
 ],
 "metadata": {
  "kernelspec": {
   "display_name": "Python 3 (ipykernel)",
   "language": "python",
   "name": "python3"
  },
  "language_info": {
   "codemirror_mode": {
    "name": "ipython",
    "version": 3
   },
   "file_extension": ".py",
   "mimetype": "text/x-python",
   "name": "python",
   "nbconvert_exporter": "python",
   "pygments_lexer": "ipython3",
   "version": "3.11.5"
  }
 },
 "nbformat": 4,
 "nbformat_minor": 5
}
