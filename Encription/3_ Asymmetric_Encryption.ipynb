{
 "cells": [
  {
   "cell_type": "markdown",
   "id": "18e0b2e5",
   "metadata": {},
   "source": [
    "# Asymmetric Encryption in Python\n",
    "\n",
    "There are several Python packages that support asymmetric encryption, also known as public-key cryptography. Two of the most popular and widely used packages for this purpose are `cryptography` and `PyCryptoDome`. Both libraries offer a variety of cryptographic tools, including support for asymmetric encryption algorithms like RSA, DSA, and ECC (Elliptic Curve Cryptography).\n",
    "\n",
    "## 1. Cryptography\n",
    "\n",
    "The `cryptography` library is a comprehensive package that includes both high-level recipes and low-level interfaces to common cryptographic algorithms. It's designed to be easy to use while also providing strong security features.\n",
    "\n",
    "### Asymmetric Encryption Support\n",
    "\n",
    "The `cryptography` library supports various asymmetric encryption algorithms, including RSA, DSA, and ECC. It allows for the generation of private and public keys, encryption and decryption of messages, and the creation and verification of digital signatures."
   ]
  },
  {
   "cell_type": "code",
   "execution_count": 2,
   "id": "ab362740",
   "metadata": {},
   "outputs": [
    {
     "name": "stdout",
     "output_type": "stream",
     "text": [
      "Original: b'Encrypt me!'\n",
      "Encrypted: b'\\x86&\\x0b<\\x1b ~\\xe4k-\\xe0\\xbb\\x92~\\x8f\\x05\\xa0R\\xa6-\\xc4\\xa0\\xe7\\x93\\x1fSt\\n\\t\\xf0\"N \\xa7\\xf9Z\\x91@0\\xce\\xa8\\xe9\\x89\\x8c\\xb9\\xdc\\x85\\x8b\\xd6K\\xa5\\r.\\xd9\\xcb(\\x0f/\\xfeo\\x03HS:\\x9ap\\xb6\\x94\\x0e,[\\x03v\\x94\\xfd\\xabP\\xce\\x8fX\\xce\\x98_\\xdb~\\xa7\\xc5\\x8e\\xccl\\xb5-\\xcc\\xfd\\x97\\xcd\\x1c\\xf8M\\xc3\\x84eY\\x87EPNz\\x14\\t\\xc7\\x94i\\x82\\x9avk<U\\xdd\\xdf=\\xb1\\x82\\x1b\\xb0TL\\xa0\\xfdK\\x08P/\\xb8P\\xf5Q\\n\\xf6\\x99\\xb2\\x9d]\\x95J\\xb3\\xd1\\xe4\\xa4\\xd66\\x1d~\\x08\\xac\\x1d1j\\x18-a\\x99\\xb1\\xba|\\xdc\\xc6\\x83t(\\xa9n\\x1e\\xbc\\xf6\\x00\\xda\\xb3G\\x9ep\\x95b\\xd254(\\x88.\\x02\\xec\\x8d\\x8f\\xd7\\x07\\xaa\\'\\x9b\\x85\\xe5MG|O\\xea\\xc2M\\xb9I\\xac\\xe8\\x98\\xd6\\x1eQW5\\xf2R\\x95\\xf1\\xf6\\xc6\\xa3\\x8a\\x06n\\x81\\x0ez\\xa3\\x89x\\xd0\\x82t\\xb6\\xde\\xbc7\\x8c\\xb6h.\\xb2?\\x04\\x93\\tY\\xf72Z\\x99\\x86'\n",
      "Decrypted: b'Encrypt me!'\n"
     ]
    }
   ],
   "source": [
    "from cryptography.hazmat.backends import default_backend\n",
    "from cryptography.hazmat.primitives.asymmetric import rsa\n",
    "from cryptography.hazmat.primitives import serialization\n",
    "from cryptography.hazmat.primitives import hashes\n",
    "from cryptography.hazmat.primitives.asymmetric import padding\n",
    "\n",
    "# Generate a private key\n",
    "private_key = rsa.generate_private_key(\n",
    "    public_exponent=65537,\n",
    "    key_size=2048,\n",
    "    backend=default_backend()\n",
    ")\n",
    "\n",
    "# Generate a public key\n",
    "public_key = private_key.public_key()\n",
    "\n",
    "# Encrypting a message with the public key\n",
    "message = b'Encrypt me!'\n",
    "encrypted_message = public_key.encrypt(\n",
    "    message,\n",
    "    padding.OAEP(\n",
    "        mgf=padding.MGF1(algorithm=hashes.SHA256()),\n",
    "        algorithm=hashes.SHA256(),\n",
    "        label=None\n",
    "    )\n",
    ")\n",
    "\n",
    "# Decrypting the message with the private key\n",
    "original_message = private_key.decrypt(\n",
    "    encrypted_message,\n",
    "    padding.OAEP(\n",
    "        mgf=padding.MGF1(algorithm=hashes.SHA256()),\n",
    "        algorithm=hashes.SHA256(),\n",
    "        label=None\n",
    "    )\n",
    ")\n",
    "\n",
    "print(\"Original:\", message)\n",
    "print(\"Encrypted:\", encrypted_message)\n",
    "print(\"Decrypted:\", original_message)"
   ]
  },
  {
   "cell_type": "markdown",
   "id": "66d2c9b5",
   "metadata": {},
   "source": [
    "## 2. PyCryptoDome\n",
    "\n",
    "`PyCryptoDome` is a fork of PyCrypto that brings several enhancements and additional cryptographic recipes. It's a self-contained Python package of low-level cryptographic primitives.\n",
    "\n",
    "### Asymmetric Encryption Support\n",
    "\n",
    "Similar to `cryptography`, `PyCryptoDome` supports a variety of asymmetric encryption algorithms, including RSA, DSA, and ECC.\n"
   ]
  },
  {
   "cell_type": "code",
   "execution_count": 2,
   "id": "5f3cb870",
   "metadata": {},
   "outputs": [
    {
     "name": "stdout",
     "output_type": "stream",
     "text": [
      "Original: b'Encrypt me!'\n",
      "Encrypted: b\"fhG\\x11/u\\x8a\\x08\\xda{\\xcc?\\xed}Q\\xcb\\x9al\\x829\\x05J\\x95\\xaa\\x86e\\xa2\\x9e\\xc0\\xf0\\xd6z\\rw\\xbc\\xe8)\\x97r1\\xa5*\\xe5\\xf7\\x89/D}P\\xb7(\\xac\\xb7\\xb152E\\xa7\\xd1\\xc0\\x1c\\xa8J[\\x9f\\xef\\xb2L8\\xb1@\\xa1rh{Ih)\\x06O\\x0f\\xdd\\xd1\\x1cz\\xa5'\\xc4\\xb8\\xadW\\x08D/\\x9ab\\xbf\\x91Pg\\x9b\\x8b4sU\\xbf9\\xaa{f!\\x1a\\xf3\\xcc\\x00j\\x90\\xba\\xf3\\xdd=;E\\x05r\\x12\\x1d\\xebv)}uHd\\xc0oA\\xe4\\x12]L\\xcb\\xcc\\x8c\\xed\\xc0\\x16bd\\xba,\\x81\\x01\\xd6\\x1bY;\\x7fDo\\xcd\\x92iv\\x01E\\x1b+Q\\xf4\\xee\\x95zCK\\x1d\\x158\\xba\\xc0\\x81'\\x99kzu\\xed\\xcc\\x19\\xb4=\\xac9\\x1b\\x956\\xd9k\\x1c\\xe4\\xfe\\xfa\\xbd9\\x9d3\\xaf\\xb3\\x8b\\xfb\\x9e\\xa7\\xae\\x16\\xc8Z\\x1f*\\x9b\\xfd\\x15\\x12EK67l\\xb9V\\xea\\xbc+\\xc8\\xb93\\xf3\\x86\\x05\\xd1\\xc2\\xadh\\xbe\\x81h<B\\xe8\\xfc\\x9c5;\\x89.\\xca\\xba\"\n",
      "Decrypted: b'Encrypt me!'\n"
     ]
    }
   ],
   "source": [
    "from Crypto.PublicKey import RSA\n",
    "from Crypto.Cipher import PKCS1_OAEP\n",
    "import binascii\n",
    "\n",
    "# Generate a private key and public key pair\n",
    "keyPair = RSA.generate(2048)\n",
    "pubKey = keyPair.publickey()\n",
    "\n",
    "message = b'Encrypt me!'\n",
    "\n",
    "\n",
    "# Encrypt a message with the public key\n",
    "encryptor = PKCS1_OAEP.new(pubKey)\n",
    "encrypted = encryptor.encrypt(message)\n",
    "\n",
    "# Decrypt the message with the private key\n",
    "decryptor = PKCS1_OAEP.new(keyPair)\n",
    "decrypted = decryptor.decrypt(encrypted)\n",
    "\n",
    "\n",
    "print(\"Original:\", message)\n",
    "print(\"Encrypted:\", encrypted)\n",
    "print(\"Decrypted:\", decrypted)"
   ]
  },
  {
   "cell_type": "markdown",
   "id": "0530c116",
   "metadata": {},
   "source": [
    "# How Asymmetric Encryption Works in Real Life for Data Transfer\n",
    "\n",
    "Asymmetric encryption, or public-key cryptography, is fundamental in securing data transfer across networks. Here's an overview of its operation in real-life scenarios:\n",
    "\n",
    "## Key Pair Generation\n",
    "\n",
    "- **Initial Step:** Participants generate a pair of keys: a **public key** (which can be shared) and a **private key** (kept secret).\n",
    "- **Principle:** Data encrypted with the public key can only be decrypted by its corresponding private key, establishing a secure method of communication.\n",
    "\n",
    "## Data Encryption\n",
    "\n",
    "- **Sender’s Action:** To send secure data, the sender encrypts the data using the recipient’s public key.\n",
    "- **Result:** The encrypted data can only be decrypted by the recipient's private key, ensuring its confidentiality.\n",
    "\n",
    "## Data Transmission\n",
    "\n",
    "- **Network Transmission:** Encrypted data is sent over the internet or other networks. Its encrypted nature keeps it secure, even if intercepted.\n",
    "- **Security Against Interception:** Without the private key, intercepted data remains indecipherable to unauthorized parties.\n",
    "\n",
    "## Data Decryption\n",
    "\n",
    "- **Recipient’s Action:** The recipient uses their private key to decrypt the received data.\n",
    "- **Confidentiality:** Only the recipient can access and decrypt the transmitted data, maintaining its security.\n",
    "\n",
    "## Real-life Applications\n",
    "\n",
    "1. **Email Encryption:** Secure email services use asymmetric encryption to protect email content.\n",
    "2. **HTTPS and Secure Websites:** Websites utilize SSL/TLS protocols, incorporating asymmetric encryption to securely exchange keys for encrypted communication.\n",
    "3. **Digital Signatures:** Asymmetric encryption enables digital signing, allowing message integrity and sender authenticity verification.\n",
    "4. **Secure File Sharing:** Secure file sharing often involves asymmetric encryption for key exchange, ensuring file encryption and decryption security.\n",
    "5. **VPN Connections:** VPNs employ asymmetric encryption to establish secure connections, with subsequent communication often encrypted using symmetric methods for efficiency.\n",
    "\n",
    "Asymmetric encryption thus ensures the confidentiality, integrity, and authenticity of data transfers, serving as a cornerstone of modern digital security protocols.\n",
    "\n"
   ]
  },
  {
   "cell_type": "code",
   "execution_count": null,
   "id": "12959fcd",
   "metadata": {},
   "outputs": [],
   "source": []
  }
 ],
 "metadata": {
  "kernelspec": {
   "display_name": "Python 3 (ipykernel)",
   "language": "python",
   "name": "python3"
  },
  "language_info": {
   "codemirror_mode": {
    "name": "ipython",
    "version": 3
   },
   "file_extension": ".py",
   "mimetype": "text/x-python",
   "name": "python",
   "nbconvert_exporter": "python",
   "pygments_lexer": "ipython3",
   "version": "3.11.5"
  }
 },
 "nbformat": 4,
 "nbformat_minor": 5
}
