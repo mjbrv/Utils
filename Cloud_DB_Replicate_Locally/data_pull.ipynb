{
 "cells": [
  {
   "cell_type": "code",
   "execution_count": 4,
   "metadata": {},
   "outputs": [],
   "source": [
    "import pyodbc\n",
    "import numpy as np\n",
    "import pandas as pd"
   ]
  },
  {
   "cell_type": "code",
   "execution_count": 5,
   "metadata": {},
   "outputs": [],
   "source": [
    "# local db info\n",
    "server = '123.0.0.1'\n",
    "database = 'your_db_name'\n",
    "username = 'your_username'\n",
    "password = 'your_pass'\n",
    "driver = '{ODBC Driver 18 for SQL Server}'\n",
    "\n",
    "# ENCRYPT defaults to yes starting in ODBC Driver 18. It's good to always specify ENCRYPT=yes on the client side to avoid MITM attacks.\n",
    "cnxn = pyodbc.connect('DRIVER='+driver+';SERVER='+server+';ENCRYPT=no;UID='+username+';PWD='+ password)\n",
    "cursor = cnxn.cursor()"
   ]
  },
  {
   "cell_type": "code",
   "execution_count": 6,
   "metadata": {},
   "outputs": [],
   "source": [
    "data = pd.read_sql(\"SELECT TOP(100) * FROM master.dbo.job_run_cluster_analysis\", cnxn)"
   ]
  },
  {
   "cell_type": "code",
   "execution_count": 7,
   "metadata": {},
   "outputs": [],
   "source": [
    "query = \"\"\"\n",
    "SELECT DISTINCT \n",
    "\tinfo1.job_run_date,\n",
    "\tinfo1.cluster_id,\n",
    "\tinfo1.vms_cost,\n",
    "\tinfo1.driver_node_type_id,\n",
    "\tinfo1.node_type_id,\n",
    "\tcts.worker_count,\n",
    "\tcts.cluster_type,\n",
    "\tcts.segment_start_time,\n",
    "\tcts.segment_end_time,\n",
    "\tcts.duration_sec\n",
    "FROM\n",
    "\t(SELECT\n",
    "\t\tjrtc.subscription_id, \n",
    "\t\tjrtc.workspace_id, \n",
    "\t\tjrtc.job_id, \n",
    "\t\tjrtc.task_id, \n",
    "\t\tjrtc.cluster_id, \n",
    "\t\tjrtc.job_run_date, \n",
    "\t\tjrtc.vms_cost,\n",
    "\t\tJSON_VALUE(jrca.cluster_config, '$.driver_node_type_id') AS driver_node_type_id,\n",
    "\t\tJSON_VALUE(jrca.cluster_config, '$.node_type_id') AS node_type_id\n",
    "\tFROM \n",
    "\t\tjob_run_cluster_analysis jrca\n",
    "\tINNER JOIN\n",
    "\t\tjob_run_task_cost jrtc\n",
    "\tON\n",
    "\t\tjrca.db_job_id = jrtc.job_id\n",
    "\t\tAND jrca.cluster_id = jrtc.cluster_id \n",
    "\t\tAND jrca.workspace_id = jrtc.workspace_id \n",
    "\t\tAND jrca.subscription_id = jrtc.subscription_id \n",
    "\t\tAND jrca.job_run_date = jrtc.job_run_date\n",
    "\tWHERE \n",
    "\t\tjrtc.vms_cost IS NOT NULL\n",
    "\t\tAND jrca.cluster_config LIKE '%\"availability\":\"SPOT%'\n",
    "\t\tAND\tjrca.job_run_date >= '2024-01-01'\n",
    "\t\tAND jrca.job_run_date < '2024-02-01') info1\n",
    "INNER JOIN\n",
    "\tcluster_timeline_segments cts\n",
    "ON\n",
    "\tinfo1.subscription_id = cts.subscription_id \n",
    "\tAND info1.workspace_id = cts.workspace_id \n",
    "\tAND info1.cluster_id = cts.cluster_id \n",
    "\tAND info1.job_run_date = cts.date\n",
    "ORDER BY info1.job_run_date\n",
    "\"\"\""
   ]
  },
  {
   "cell_type": "code",
   "execution_count": null,
   "metadata": {
    "scrolled": true
   },
   "outputs": [],
   "source": [
    "df = pd.read_sql(query, cnxn)\n",
    "df"
   ]
  },
  {
   "cell_type": "markdown",
   "metadata": {},
   "source": [
    "# Another way using create_engine"
   ]
  },
  {
   "cell_type": "code",
   "execution_count": 2,
   "metadata": {},
   "outputs": [],
   "source": [
    "from sqlalchemy import create_engine\n",
    "from sqlalchemy.engine import URL"
   ]
  },
  {
   "cell_type": "code",
   "execution_count": 2,
   "metadata": {},
   "outputs": [],
   "source": [
    "# local db info\n",
    "\n",
    "# server = '123.0.0.1'\n",
    "server = \"localhost\"\n",
    "database = 'your_db_name'\n",
    "username = 'your_username'\n",
    "password = 'your_pass'\n",
    "driver = '{ODBC Driver 18 for SQL Server}'\n",
    "port = \"1433\"\n",
    "\n",
    "\n",
    "connection_string = f'DRIVER={driver};SERVER=tcp:{server};PORT=1433;DATABASE={database};'f'UID={username};PWD={password};TrustServerCertificate=YES;'\n",
    "connection_url = URL.create(\"mssql+pyodbc\", query={\"odbc_connect\": connection_string})\n",
    "\n",
    "engine = create_engine(connection_url)"
   ]
  },
  {
   "cell_type": "code",
   "execution_count": null,
   "metadata": {},
   "outputs": [],
   "source": [
    "with engine.begin() as conn:\n",
    "    df = pd.read_sql(query, conn)\n",
    "\n",
    "df.head()"
   ]
  },
  {
   "cell_type": "code",
   "execution_count": null,
   "metadata": {},
   "outputs": [],
   "source": []
  }
 ],
 "metadata": {
  "kernelspec": {
   "display_name": "Python 3 (ipykernel)",
   "language": "python",
   "name": "python3"
  },
  "language_info": {
   "codemirror_mode": {
    "name": "ipython",
    "version": 3
   },
   "file_extension": ".py",
   "mimetype": "text/x-python",
   "name": "python",
   "nbconvert_exporter": "python",
   "pygments_lexer": "ipython3",
   "version": "3.11.5"
  }
 },
 "nbformat": 4,
 "nbformat_minor": 2
}
